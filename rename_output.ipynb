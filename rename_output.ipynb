{
 "cells": [
  {
   "cell_type": "code",
   "execution_count": 1,
   "metadata": {},
   "outputs": [],
   "source": [
    "import pandas as pd\n",
    "import numpy as np\n",
    "from scipy import ndimage #ndimage provides a large amount of functions for image processing: https://docs.scipy.org/doc/scipy/reference/ndimage.html \n",
    "from skimage import color #many tutorials: https://github.com/scikit-image/skimage-tutorials/tree/master/lectures\n",
    "import matplotlib.pyplot as plt # matplotlib is the major lib for plotting\n",
    "import imageio\n",
    "from PIL import Image\n",
    "import os\n",
    "import shutil"
   ]
  },
  {
   "cell_type": "code",
   "execution_count": 6,
   "metadata": {},
   "outputs": [],
   "source": [
    "directory = '/Users/lorenzogiurintano/Downloads/01_VALIDATION_DATA/SET4_HOUSEHOLDUTILS/0_8_RATIO' \n",
    "#concatenate single searchterm dataframes from DATA\n",
    "df = pd.DataFrame()\n",
    "for i, filename in enumerate(os.listdir(directory)):\n",
    "    os.rename(directory + '/' + filename, directory + '/' + '0_8_image' + '_' + str(i) + \".jpg\")"
   ]
  }
 ],
 "metadata": {
  "kernelspec": {
   "display_name": "Python 3.8.5 ('base')",
   "language": "python",
   "name": "python3"
  },
  "language_info": {
   "codemirror_mode": {
    "name": "ipython",
    "version": 3
   },
   "file_extension": ".py",
   "mimetype": "text/x-python",
   "name": "python",
   "nbconvert_exporter": "python",
   "pygments_lexer": "ipython3",
   "version": "3.8.5"
  },
  "orig_nbformat": 4,
  "vscode": {
   "interpreter": {
    "hash": "23bdd3925f96b40d3a326408019c040612fdc26e2e223fbbc8af9d74d535a3e3"
   }
  }
 },
 "nbformat": 4,
 "nbformat_minor": 2
}
